{
 "cells": [
  {
   "cell_type": "markdown",
   "id": "1117342b",
   "metadata": {},
   "source": [
    "This notebook describes how to compute and derive insights from various classification evaluation metrics."
   ]
  },
  {
   "cell_type": "markdown",
   "id": "0a75e47b",
   "metadata": {},
   "source": [
    "- **Model evaluation** is an important part of a training process since it ensures that a model has been properly trained on the existing dataset and can be used to make predictions for an unseen dataset.\n",
    "\n",
    "- There are a number of metrics such as accuracy, precision, recall, f1-score that are commonly used to evaluate a model. They are calculated based on the number of correct and incorrect predictions broken down by each class.  \n",
    "\n"
   ]
  },
  {
   "cell_type": "markdown",
   "id": "8724b59b",
   "metadata": {},
   "source": [
    "The dataset used in this notebook was downloaded from https://archive.ics.uci.edu/ml/index.php. The dataset contains four numerical predictors, and the target is a binary variable that indicates whether or not a person donated blood (1 and 0). To stay focused on the evaluation metrics topic, I did not apply any EDA to the data. If you are interested, please use the link to download the data and run your EDA and data preprocessing."
   ]
  },
  {
   "cell_type": "code",
   "execution_count": 1,
   "id": "0be53dc5",
   "metadata": {},
   "outputs": [
    {
     "name": "stdout",
     "output_type": "stream",
     "text": [
      "<class 'pandas.core.frame.DataFrame'>\n",
      "RangeIndex: 748 entries, 0 to 747\n",
      "Data columns (total 5 columns):\n",
      " #   Column     Non-Null Count  Dtype\n",
      "---  ------     --------------  -----\n",
      " 0   Recency    748 non-null    int64\n",
      " 1   Frequency  748 non-null    int64\n",
      " 2   Monetary   748 non-null    int64\n",
      " 3   Time       748 non-null    int64\n",
      " 4   Donated    748 non-null    int64\n",
      "dtypes: int64(5)\n",
      "memory usage: 29.3 KB\n"
     ]
    }
   ],
   "source": [
    "import pandas as pd\n",
    "import numpy as np\n",
    "df=pd.read_csv('metrics_dataset.csv')\n",
    "df.info()"
   ]
  },
  {
   "cell_type": "code",
   "execution_count": 2,
   "id": "5aa988d2",
   "metadata": {},
   "outputs": [
    {
     "data": {
      "text/plain": [
       "0    570\n",
       "1    178\n",
       "Name: Donated, dtype: int64"
      ]
     },
     "execution_count": 2,
     "metadata": {},
     "output_type": "execute_result"
    }
   ],
   "source": [
    "df['Donated'].value_counts()"
   ]
  },
  {
   "cell_type": "code",
   "execution_count": 3,
   "id": "932e94e1",
   "metadata": {},
   "outputs": [],
   "source": [
    "# tranforming three skewed features\n",
    "df['Recency']=df['Recency']+1\n",
    "for col in ['Recency', 'Frequency','Monetary']:\n",
    "    df[col]= np.log2(df[col])"
   ]
  },
  {
   "cell_type": "code",
   "execution_count": 4,
   "id": "0af5cd6c",
   "metadata": {},
   "outputs": [],
   "source": [
    "# creates predictors and target datasets\n",
    "X= df.drop('Donated', axis=1)\n",
    "y=df['Donated']"
   ]
  },
  {
   "cell_type": "markdown",
   "id": "d7f94a92",
   "metadata": {},
   "source": [
    "### Classification\n",
    "A logistic regression classifier was used to predict whether or not a person would donate blood. Please note that default parameters were used without tuning any hyper-parameters in order to stay focused on the metrics topic."
   ]
  },
  {
   "cell_type": "code",
   "execution_count": 5,
   "id": "7a1b0575",
   "metadata": {},
   "outputs": [],
   "source": [
    "from sklearn.linear_model import LogisticRegression\n",
    "from sklearn.preprocessing import StandardScaler\n",
    "from sklearn.model_selection import train_test_split"
   ]
  },
  {
   "cell_type": "code",
   "execution_count": 6,
   "id": "0d29dd7f",
   "metadata": {},
   "outputs": [],
   "source": [
    "# split the data into training and test sets\n",
    "X_train, X_test, y_train, y_test= train_test_split(X, y, test_size=0.3, stratify=y, random_state=103)"
   ]
  },
  {
   "cell_type": "code",
   "execution_count": 7,
   "id": "2be1b57c",
   "metadata": {},
   "outputs": [],
   "source": [
    "# scale the predictor features based on the training data \n",
    "scaler=StandardScaler()\n",
    "scaler.fit(X_train)\n",
    "\n",
    "X_train=scaler.transform(X_train)\n",
    "X_test=scaler.transform(X_test)"
   ]
  },
  {
   "cell_type": "code",
   "execution_count": 8,
   "id": "a9e84558",
   "metadata": {},
   "outputs": [
    {
     "data": {
      "text/plain": [
       "LogisticRegression()"
      ]
     },
     "execution_count": 8,
     "metadata": {},
     "output_type": "execute_result"
    }
   ],
   "source": [
    "# fits the model\n",
    "lri=LogisticRegression()\n",
    "lri.fit(X_train, y_train)"
   ]
  },
  {
   "cell_type": "markdown",
   "id": "19da3d47",
   "metadata": {},
   "source": [
    "- There are a number of metrics such as accuracy, precision, recall, f1-score that are commonly used to evaluate a model. They are calculated based on the number of correct and incorrect predictions broken down by each class that are usually represented by a confusion matrix.  "
   ]
  },
  {
   "cell_type": "markdown",
   "id": "f105cf45",
   "metadata": {},
   "source": [
    "### 1) Confusion matrix\n",
    "- A confusion matrixthe represents the number of correct and incorrect predictions broken down by each class."
   ]
  },
  {
   "cell_type": "code",
   "execution_count": 9,
   "id": "46b4e350",
   "metadata": {},
   "outputs": [
    {
     "data": {
      "text/plain": [
       "array([[163,   8],\n",
       "       [ 40,  14]], dtype=int64)"
      ]
     },
     "execution_count": 9,
     "metadata": {},
     "output_type": "execute_result"
    }
   ],
   "source": [
    "# confusion matrix\n",
    "from sklearn.metrics import confusion_matrix\n",
    "confusion_matrix(y_test, lri.predict(X_test))"
   ]
  },
  {
   "cell_type": "markdown",
   "id": "a2e306a7",
   "metadata": {},
   "source": [
    "**Note**: Values extracted from the confusion matrix: TP=14, FP=8, TN=163, FN=40\n",
    "- The number of class 0 samples is greater than the number of class 1 samples, resulting in an imbalance. In a separate notebook, I discussed dealing with imbalanced datasets, and you can find out about techniques that are used for creating a balanced dataset.\n",
    " \n",
    "\n",
    "In this case, I attempted to create a training dataset with an equal number of samples for each class using an oversampling method."
   ]
  },
  {
   "cell_type": "code",
   "execution_count": 10,
   "id": "8da9ac21",
   "metadata": {},
   "outputs": [],
   "source": [
    "from imblearn.combine import SMOTETomek"
   ]
  },
  {
   "cell_type": "code",
   "execution_count": 11,
   "id": "d3fd0e75",
   "metadata": {},
   "outputs": [],
   "source": [
    "# oversampling the data\n",
    "smt = SMOTETomek(sampling_strategy='auto')\n",
    "X_train_smt, y_train_smt = smt.fit_resample(X_train, y_train)"
   ]
  },
  {
   "cell_type": "code",
   "execution_count": 12,
   "id": "9c4f4166",
   "metadata": {},
   "outputs": [
    {
     "data": {
      "text/plain": [
       "LogisticRegression()"
      ]
     },
     "execution_count": 12,
     "metadata": {},
     "output_type": "execute_result"
    }
   ],
   "source": [
    "# fit the model to new datasets\n",
    "lr=LogisticRegression()\n",
    "\n",
    "lr.fit(X_train_smt, y_train_smt)"
   ]
  },
  {
   "cell_type": "code",
   "execution_count": 13,
   "id": "e5c1e46b",
   "metadata": {},
   "outputs": [
    {
     "data": {
      "text/plain": [
       "array([[124,  47],\n",
       "       [ 17,  37]], dtype=int64)"
      ]
     },
     "execution_count": 13,
     "metadata": {},
     "output_type": "execute_result"
    }
   ],
   "source": [
    "confusion_matrix(y_test, lr.predict(X_test))"
   ]
  },
  {
   "cell_type": "markdown",
   "id": "50aaba3b",
   "metadata": {},
   "source": [
    "**Insight:** Using a balanced dataset to train the model improved model performance for class 1.\n"
   ]
  },
  {
   "cell_type": "markdown",
   "id": "bda664f8",
   "metadata": {},
   "source": [
    "### 2) Accuracy\n",
    "- Although a confusion matrix can provide useful information, looking at and digesting all of the numbers presented in the matrix can sometimes be overwhelming. Confusion matrices can be summarized into a single value metric such as accuracy, recall, or precision.\n",
    "\n",
    "- Accuracy is defined as the ratio of the number of correctly classified samples to the total number of samples. For a training task, a model accuracy is represented by a single value (unlike other parameters such as precision, recall, and f1-score that are reported for each class using 1 vs. all methodology).\n",
    "\n",
    "$$Accuracy=TP/(TP+FP+TN+FN)$$"
   ]
  },
  {
   "cell_type": "code",
   "execution_count": 14,
   "id": "8c11725a",
   "metadata": {},
   "outputs": [
    {
     "name": "stdout",
     "output_type": "stream",
     "text": [
      "Accuracy (imbalanced dataset): 78.67%\n",
      "Accuracy (balanced dataset): 71.56%\n"
     ]
    }
   ],
   "source": [
    "from sklearn.metrics import accuracy_score\n",
    "\n",
    "print ('Accuracy (imbalanced dataset): {:2.2%}'.format(accuracy_score(y_test, lri.predict(X_test))))\n",
    "print ('Accuracy (balanced dataset): {:2.2%}'.format(accuracy_score(y_test, lr.predict(X_test))))"
   ]
  },
  {
   "cell_type": "markdown",
   "id": "a96b3859",
   "metadata": {},
   "source": [
    "- Accuracy may become a misleading and ineffective metric in the case of an imbalanced dataset in which the number of samples belonging to one class is significantly greater than the others.\n",
    "\n",
    "- The first model that was trained on the imbalanced dataset performed poorly on class 1; however, the model accuracy is higher due to the large number of true negative samples."
   ]
  },
  {
   "cell_type": "markdown",
   "id": "6906663a",
   "metadata": {},
   "source": [
    "### 3) Recall\n",
    "- Recall is the proprtion of samples in a class that are correctly predicted.\n",
    "\n",
    "- If the target class is important in your analysis and you do not want any of the target samples to be classified as non-target class, recall is the metric to focus on as a high recall rate relates to a low false negative rate.\n",
    "$$Recall=TP/(TP+FN)$$"
   ]
  },
  {
   "cell_type": "code",
   "execution_count": 15,
   "id": "3100edd0",
   "metadata": {},
   "outputs": [
    {
     "name": "stdout",
     "output_type": "stream",
     "text": [
      "Recall: 68.52%\n"
     ]
    }
   ],
   "source": [
    "from sklearn.metrics import recall_score\n",
    "\n",
    "print ('Recall: {:2.2%}'.format(recall_score(y_test, lr.predict(X_test))))"
   ]
  },
  {
   "cell_type": "markdown",
   "id": "369e5e63",
   "metadata": {},
   "source": [
    "**insight:** A high recall value shows that the model correctly predicted the majority of those who donated blood. "
   ]
  },
  {
   "cell_type": "markdown",
   "id": "29e64b04",
   "metadata": {},
   "source": [
    "###  4) Precision\n",
    "- Precision is defined by the ratio of predicted positive samples being actually positive. \n",
    "\n",
    "- If you don't want a large number of non-target class samples to be classified as target class, precision could be the primary metric for your analysis as high precision relates to a low false positive rate.\n",
    "$$Precision=TP/(TP+FP)$$"
   ]
  },
  {
   "cell_type": "code",
   "execution_count": 16,
   "id": "a29a4c93",
   "metadata": {},
   "outputs": [],
   "source": [
    "from sklearn.metrics import precision_score"
   ]
  },
  {
   "cell_type": "code",
   "execution_count": 17,
   "id": "7e7ec7d0",
   "metadata": {},
   "outputs": [
    {
     "name": "stdout",
     "output_type": "stream",
     "text": [
      "Precision: 44.05%\n"
     ]
    }
   ],
   "source": [
    "print ('Precision: {:2.2%}'.format(precision_score(y_test, lr.predict(X_test))))"
   ]
  },
  {
   "cell_type": "markdown",
   "id": "678c6b18",
   "metadata": {},
   "source": [
    "**Insight:** A low precision value indicates that many samples from class 0 (those who did not donate) are classified as class 1."
   ]
  },
  {
   "cell_type": "markdown",
   "id": "22c78b49",
   "metadata": {},
   "source": [
    "### 5) f1 score\n",
    "- Precision and recall can be combined and represented as the f1-score, which is the harmonic average of their values. Both false positive and false negative values are considered to calculate this metric."
   ]
  },
  {
   "cell_type": "code",
   "execution_count": 18,
   "id": "c8594c7f",
   "metadata": {},
   "outputs": [],
   "source": [
    "from sklearn.metrics import f1_score"
   ]
  },
  {
   "cell_type": "code",
   "execution_count": 19,
   "id": "889238c7",
   "metadata": {},
   "outputs": [
    {
     "name": "stdout",
     "output_type": "stream",
     "text": [
      "f1_score: 0.54\n"
     ]
    }
   ],
   "source": [
    "print ('f1_score: {:2.2}'.format(f1_score(y_test, lr.predict(X_test))))"
   ]
  },
  {
   "cell_type": "markdown",
   "id": "2540d54e",
   "metadata": {},
   "source": [
    "### 6) Precision-recall curve\n",
    "- There is a trade-off between precision and recall, which means that altering the probability threshold (used to determine the predicted class) increases one parameter while decreasing the other.\n",
    "\n",
    "- The **precision-recall curve** depicts the trade-off between precision and recall. A large area under the curve indicates that the model has a high recall as well as a high precision."
   ]
  },
  {
   "cell_type": "code",
   "execution_count": 20,
   "id": "e9d8470a",
   "metadata": {},
   "outputs": [
    {
     "data": {
      "image/png": "[encoded data removed]",
      "text/plain": [
       "<Figure size 432x288 with 1 Axes>"
      ]
     },
     "metadata": {
      "needs_background": "light"
     },
     "output_type": "display_data"
    }
   ],
   "source": [
    "from sklearn.metrics import precision_recall_curve\n",
    "from sklearn.metrics import auc\n",
    "import matplotlib.pyplot as plt\n",
    "\n",
    "precision, recall, thresholds = precision_recall_curve(y_test, lr.predict_proba(X_test)[:,1])\n",
    "\n",
    "auc_rp = auc(recall, precision)\n",
    "\n",
    "#create precision recall curve\n",
    "fig, ax = plt.subplots()\n",
    "ax.plot(recall, precision, color='blue', label=\"AUC-Precision Recall Curve: {:.2}\".format(auc_rp))\n",
    "\n",
    "ax.set_title('Precision-Recall Curve')\n",
    "ax.set_ylabel('Precision (Positive label:1)')\n",
    "ax.set_xlabel('Recall (Positive label:1)')\n",
    "plt.legend(loc=\"lower left\")\n",
    "plt.show()"
   ]
  },
  {
   "cell_type": "markdown",
   "id": "17e54c91",
   "metadata": {},
   "source": [
    "**Insight:** The precision-recall curve shows how quickly precision drops with the slight increase in recall value. As the probality threshold is reduced to allow more samples from class 1 to be predicted as class 1, a large number of samples of class 0 that are also predicted as class 1 (False positive). \n",
    "The low auc value, as well as the shape of the graph indicate that the trained model is underfitted (bias issue) and must be re-built.  "
   ]
  },
  {
   "cell_type": "markdown",
   "id": "58439690",
   "metadata": {},
   "source": [
    "### 7) AUC-ROC score\n",
    "- The AUC-ROC score, which is calculated using the area under the Receiver Operating Characteristics curve, is one of the most reliable metrics for evaluating a classifier.\n",
    "\n",
    "\n",
    "- The ROC curve is a graphical representation of a classifier's ability to distinguish between classes at different probability thresholds.\n",
    "\n",
    "\n",
    "- True Positive rate (which is equivalent to recall: TP/TP+FN) is plotted against False Positive rate (FP/FP+TN) at different probability thresholds to generate a ROC graph.\n",
    "\n",
    "\n",
    "- The ideal case is for the TP rate to remain high while the FP rate decreases as the threshold rises, resulting in a high AUC value. Using the one vs aLL methodology, we can plot the n number of AUC ROC Curves for n number of classes in a multi-class model."
   ]
  },
  {
   "cell_type": "code",
   "execution_count": 21,
   "id": "d5acd26b",
   "metadata": {},
   "outputs": [],
   "source": [
    "from sklearn.metrics import roc_curve, roc_auc_score"
   ]
  },
  {
   "cell_type": "code",
   "execution_count": 22,
   "id": "7bb99cd9",
   "metadata": {
    "scrolled": true
   },
   "outputs": [
    {
     "data": {
      "image/png": "[encoded data removed]",
      "text/plain": [
       "<Figure size 432x288 with 1 Axes>"
      ]
     },
     "metadata": {
      "needs_background": "light"
     },
     "output_type": "display_data"
    }
   ],
   "source": [
    "# fpr: false positive rate, tpr=true positive rate\n",
    "auc_lr = roc_auc_score(y_test, lr.predict_proba(X_test)[:,1])\n",
    "\n",
    "fpr, tpr, _ = roc_curve(y_test,  lr.predict_proba(X_test)[:,1])\n",
    "\n",
    "# random classifier. A classifier with no skill. Only predicts 0 for all samples\n",
    "random_probs = [0 for _ in range(len(y_test))]\n",
    "auc_random = roc_auc_score(y_test, random_probs)\n",
    "rn_fpr, rn_tpr, _ = roc_curve(y_test, random_probs)\n",
    "\n",
    "# classifier trained on imbalanced dataset\n",
    "auc_lri = roc_auc_score(y_test, lri.predict_proba(X_test)[:,1])\n",
    "\n",
    "i_fpr, i_tpr, _ = roc_curve(y_test,  lri.predict_proba(X_test)[:,1])\n",
    "\n",
    "# perfect classifier. predicting all samples correctly\n",
    "auc_perfect = roc_auc_score(y_test, y_test)\n",
    "pr_fpr, pr_tpr, _ = roc_curve(y_test, y_test)\n",
    "\n",
    "\n",
    "#create ROC curve\n",
    "plt.plot(i_fpr,i_tpr,label=\"Logistic Regression_Imb AUC={:.2}\".format(auc_lri), color='green')\n",
    "plt.plot(rn_fpr, rn_tpr, linestyle='--', label='Random Classifier AUC={:.2}'.format(auc_random))\n",
    "plt.plot(pr_fpr, pr_tpr, linestyle='--',color='black', alpha=0.4, label='Perfect Classifier AUC={:.2}'.format(auc_perfect))\n",
    "plt.plot(fpr,tpr,label=\"Logistic Regression AUC={:.2}\".format(auc_lr))\n",
    "plt.ylabel('True Positive Rate')\n",
    "plt.xlabel('False Positive Rate')\n",
    "plt.legend(loc=\"lower right\")\n",
    "plt.show()"
   ]
  },
  {
   "cell_type": "markdown",
   "id": "846d188c",
   "metadata": {},
   "source": [
    "- This plot can be used to compare the performance of a model to distinguish a class, the performance of different classifiers (to choose the best performer), or to track the performance of a classifier over time to ensure its performance has not deteriorated and to determine if retraining or remodelling is required. \n",
    "- It can also be used to select a suitable threshold value (rather than the default 0.5) in order to achieve the desired TP and FP values."
   ]
  },
  {
   "cell_type": "markdown",
   "id": "dd22b587",
   "metadata": {},
   "source": [
    "**Insight:** \n",
    "- The auc value for the model is relatively high, but it is far from a well-trained model.\n",
    "\n",
    "- The graphs for two models (trained with balanced and imbalanced datasets) are similar in shape and auc values, indicating that creating a balanced dataset had no significant impact on model performance, and it still suffers from underfitting. Creating new features from existing predictors may aid in improving model performance."
   ]
  }
 ],
 "metadata": {
  "kernelspec": {
   "display_name": "Python 3",
   "language": "python",
   "name": "python3"
  },
  "language_info": {
   "codemirror_mode": {
    "name": "ipython",
    "version": 3
   },
   "file_extension": ".py",
   "mimetype": "text/x-python",
   "name": "python",
   "nbconvert_exporter": "python",
   "pygments_lexer": "ipython3",
   "version": "3.8.10"
  }
 },
 "nbformat": 4,
 "nbformat_minor": 5
}
